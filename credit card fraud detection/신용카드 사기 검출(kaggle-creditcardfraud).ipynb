{
 "cells": [
  {
   "cell_type": "markdown",
   "id": "611d6cab",
   "metadata": {},
   "source": [
    "# 신용카드 사기 검출\n",
    "### (Credit Card Fraud Detection)\n",
    "#### 2013년 유럽 신용카드 사용자들의 이상 거래를 탐지하는 대회"
   ]
  },
  {
   "cell_type": "markdown",
   "source": [
    "## 1. EDA"
   ],
   "metadata": {
    "collapsed": false,
    "pycharm": {
     "name": "#%% md\n"
    }
   }
  },
  {
   "cell_type": "code",
   "execution_count": 1,
   "outputs": [],
   "source": [
    "import pandas as pd\n",
    "import numpy as np\n",
    "import matplotlib.pyplot as plt\n",
    "import warnings\n",
    "import seaborn as sns\n",
    "import matplotlib.ticker as ticker\n",
    "from sklearn.model_selection import train_test_split\n",
    "from sklearn.linear_model import LogisticRegression\n",
    "from sklearn.metrics import accuracy_score, precision_score, recall_score, confusion_matrix, f1_score, roc_auc_score\n",
    "from lightgbm import LGBMClassifier\n",
    "from sklearn.preprocessing import StandardScaler\n",
    "from imblearn.over_sampling import SMOTE\n",
    "from sklearn.metrics import precision_recall_curve\n",
    "%matplotlib inline\n",
    "\n",
    "warnings.filterwarnings(\"ignore\")\n",
    "%matplotlib inline"
   ],
   "metadata": {
    "collapsed": false,
    "pycharm": {
     "name": "#%%\n"
    }
   }
  },
  {
   "cell_type": "code",
   "execution_count": 2,
   "outputs": [
    {
     "data": {
      "text/plain": "   Time        V1        V2        V3        V4        V5        V6        V7  \\\n0   0.0 -1.359807 -0.072781  2.536347  1.378155 -0.338321  0.462388  0.239599   \n1   0.0  1.191857  0.266151  0.166480  0.448154  0.060018 -0.082361 -0.078803   \n2   1.0 -1.358354 -1.340163  1.773209  0.379780 -0.503198  1.800499  0.791461   \n3   1.0 -0.966272 -0.185226  1.792993 -0.863291 -0.010309  1.247203  0.237609   \n4   2.0 -1.158233  0.877737  1.548718  0.403034 -0.407193  0.095921  0.592941   \n\n         V8        V9  ...       V21       V22       V23       V24       V25  \\\n0  0.098698  0.363787  ... -0.018307  0.277838 -0.110474  0.066928  0.128539   \n1  0.085102 -0.255425  ... -0.225775 -0.638672  0.101288 -0.339846  0.167170   \n2  0.247676 -1.514654  ...  0.247998  0.771679  0.909412 -0.689281 -0.327642   \n3  0.377436 -1.387024  ... -0.108300  0.005274 -0.190321 -1.175575  0.647376   \n4 -0.270533  0.817739  ... -0.009431  0.798278 -0.137458  0.141267 -0.206010   \n\n        V26       V27       V28  Amount  Class  \n0 -0.189115  0.133558 -0.021053  149.62      0  \n1  0.125895 -0.008983  0.014724    2.69      0  \n2 -0.139097 -0.055353 -0.059752  378.66      0  \n3 -0.221929  0.062723  0.061458  123.50      0  \n4  0.502292  0.219422  0.215153   69.99      0  \n\n[5 rows x 31 columns]",
      "text/html": "<div>\n<style scoped>\n    .dataframe tbody tr th:only-of-type {\n        vertical-align: middle;\n    }\n\n    .dataframe tbody tr th {\n        vertical-align: top;\n    }\n\n    .dataframe thead th {\n        text-align: right;\n    }\n</style>\n<table border=\"1\" class=\"dataframe\">\n  <thead>\n    <tr style=\"text-align: right;\">\n      <th></th>\n      <th>Time</th>\n      <th>V1</th>\n      <th>V2</th>\n      <th>V3</th>\n      <th>V4</th>\n      <th>V5</th>\n      <th>V6</th>\n      <th>V7</th>\n      <th>V8</th>\n      <th>V9</th>\n      <th>...</th>\n      <th>V21</th>\n      <th>V22</th>\n      <th>V23</th>\n      <th>V24</th>\n      <th>V25</th>\n      <th>V26</th>\n      <th>V27</th>\n      <th>V28</th>\n      <th>Amount</th>\n      <th>Class</th>\n    </tr>\n  </thead>\n  <tbody>\n    <tr>\n      <th>0</th>\n      <td>0.0</td>\n      <td>-1.359807</td>\n      <td>-0.072781</td>\n      <td>2.536347</td>\n      <td>1.378155</td>\n      <td>-0.338321</td>\n      <td>0.462388</td>\n      <td>0.239599</td>\n      <td>0.098698</td>\n      <td>0.363787</td>\n      <td>...</td>\n      <td>-0.018307</td>\n      <td>0.277838</td>\n      <td>-0.110474</td>\n      <td>0.066928</td>\n      <td>0.128539</td>\n      <td>-0.189115</td>\n      <td>0.133558</td>\n      <td>-0.021053</td>\n      <td>149.62</td>\n      <td>0</td>\n    </tr>\n    <tr>\n      <th>1</th>\n      <td>0.0</td>\n      <td>1.191857</td>\n      <td>0.266151</td>\n      <td>0.166480</td>\n      <td>0.448154</td>\n      <td>0.060018</td>\n      <td>-0.082361</td>\n      <td>-0.078803</td>\n      <td>0.085102</td>\n      <td>-0.255425</td>\n      <td>...</td>\n      <td>-0.225775</td>\n      <td>-0.638672</td>\n      <td>0.101288</td>\n      <td>-0.339846</td>\n      <td>0.167170</td>\n      <td>0.125895</td>\n      <td>-0.008983</td>\n      <td>0.014724</td>\n      <td>2.69</td>\n      <td>0</td>\n    </tr>\n    <tr>\n      <th>2</th>\n      <td>1.0</td>\n      <td>-1.358354</td>\n      <td>-1.340163</td>\n      <td>1.773209</td>\n      <td>0.379780</td>\n      <td>-0.503198</td>\n      <td>1.800499</td>\n      <td>0.791461</td>\n      <td>0.247676</td>\n      <td>-1.514654</td>\n      <td>...</td>\n      <td>0.247998</td>\n      <td>0.771679</td>\n      <td>0.909412</td>\n      <td>-0.689281</td>\n      <td>-0.327642</td>\n      <td>-0.139097</td>\n      <td>-0.055353</td>\n      <td>-0.059752</td>\n      <td>378.66</td>\n      <td>0</td>\n    </tr>\n    <tr>\n      <th>3</th>\n      <td>1.0</td>\n      <td>-0.966272</td>\n      <td>-0.185226</td>\n      <td>1.792993</td>\n      <td>-0.863291</td>\n      <td>-0.010309</td>\n      <td>1.247203</td>\n      <td>0.237609</td>\n      <td>0.377436</td>\n      <td>-1.387024</td>\n      <td>...</td>\n      <td>-0.108300</td>\n      <td>0.005274</td>\n      <td>-0.190321</td>\n      <td>-1.175575</td>\n      <td>0.647376</td>\n      <td>-0.221929</td>\n      <td>0.062723</td>\n      <td>0.061458</td>\n      <td>123.50</td>\n      <td>0</td>\n    </tr>\n    <tr>\n      <th>4</th>\n      <td>2.0</td>\n      <td>-1.158233</td>\n      <td>0.877737</td>\n      <td>1.548718</td>\n      <td>0.403034</td>\n      <td>-0.407193</td>\n      <td>0.095921</td>\n      <td>0.592941</td>\n      <td>-0.270533</td>\n      <td>0.817739</td>\n      <td>...</td>\n      <td>-0.009431</td>\n      <td>0.798278</td>\n      <td>-0.137458</td>\n      <td>0.141267</td>\n      <td>-0.206010</td>\n      <td>0.502292</td>\n      <td>0.219422</td>\n      <td>0.215153</td>\n      <td>69.99</td>\n      <td>0</td>\n    </tr>\n  </tbody>\n</table>\n<p>5 rows × 31 columns</p>\n</div>"
     },
     "metadata": {},
     "output_type": "display_data"
    },
    {
     "data": {
      "text/plain": "            Time         V1         V2        V3        V4        V5  \\\n284802  172786.0 -11.881118  10.071785 -9.834783 -2.066656 -5.364473   \n284803  172787.0  -0.732789  -0.055080  2.035030 -0.738589  0.868229   \n284804  172788.0   1.919565  -0.301254 -3.249640 -0.557828  2.630515   \n284805  172788.0  -0.240440   0.530483  0.702510  0.689799 -0.377961   \n284806  172792.0  -0.533413  -0.189733  0.703337 -0.506271 -0.012546   \n\n              V6        V7        V8        V9  ...       V21       V22  \\\n284802 -2.606837 -4.918215  7.305334  1.914428  ...  0.213454  0.111864   \n284803  1.058415  0.024330  0.294869  0.584800  ...  0.214205  0.924384   \n284804  3.031260 -0.296827  0.708417  0.432454  ...  0.232045  0.578229   \n284805  0.623708 -0.686180  0.679145  0.392087  ...  0.265245  0.800049   \n284806 -0.649617  1.577006 -0.414650  0.486180  ...  0.261057  0.643078   \n\n             V23       V24       V25       V26       V27       V28  Amount  \\\n284802  1.014480 -0.509348  1.436807  0.250034  0.943651  0.823731    0.77   \n284803  0.012463 -1.016226 -0.606624 -0.395255  0.068472 -0.053527   24.79   \n284804 -0.037501  0.640134  0.265745 -0.087371  0.004455 -0.026561   67.88   \n284805 -0.163298  0.123205 -0.569159  0.546668  0.108821  0.104533   10.00   \n284806  0.376777  0.008797 -0.473649 -0.818267 -0.002415  0.013649  217.00   \n\n        Class  \n284802      0  \n284803      0  \n284804      0  \n284805      0  \n284806      0  \n\n[5 rows x 31 columns]",
      "text/html": "<div>\n<style scoped>\n    .dataframe tbody tr th:only-of-type {\n        vertical-align: middle;\n    }\n\n    .dataframe tbody tr th {\n        vertical-align: top;\n    }\n\n    .dataframe thead th {\n        text-align: right;\n    }\n</style>\n<table border=\"1\" class=\"dataframe\">\n  <thead>\n    <tr style=\"text-align: right;\">\n      <th></th>\n      <th>Time</th>\n      <th>V1</th>\n      <th>V2</th>\n      <th>V3</th>\n      <th>V4</th>\n      <th>V5</th>\n      <th>V6</th>\n      <th>V7</th>\n      <th>V8</th>\n      <th>V9</th>\n      <th>...</th>\n      <th>V21</th>\n      <th>V22</th>\n      <th>V23</th>\n      <th>V24</th>\n      <th>V25</th>\n      <th>V26</th>\n      <th>V27</th>\n      <th>V28</th>\n      <th>Amount</th>\n      <th>Class</th>\n    </tr>\n  </thead>\n  <tbody>\n    <tr>\n      <th>284802</th>\n      <td>172786.0</td>\n      <td>-11.881118</td>\n      <td>10.071785</td>\n      <td>-9.834783</td>\n      <td>-2.066656</td>\n      <td>-5.364473</td>\n      <td>-2.606837</td>\n      <td>-4.918215</td>\n      <td>7.305334</td>\n      <td>1.914428</td>\n      <td>...</td>\n      <td>0.213454</td>\n      <td>0.111864</td>\n      <td>1.014480</td>\n      <td>-0.509348</td>\n      <td>1.436807</td>\n      <td>0.250034</td>\n      <td>0.943651</td>\n      <td>0.823731</td>\n      <td>0.77</td>\n      <td>0</td>\n    </tr>\n    <tr>\n      <th>284803</th>\n      <td>172787.0</td>\n      <td>-0.732789</td>\n      <td>-0.055080</td>\n      <td>2.035030</td>\n      <td>-0.738589</td>\n      <td>0.868229</td>\n      <td>1.058415</td>\n      <td>0.024330</td>\n      <td>0.294869</td>\n      <td>0.584800</td>\n      <td>...</td>\n      <td>0.214205</td>\n      <td>0.924384</td>\n      <td>0.012463</td>\n      <td>-1.016226</td>\n      <td>-0.606624</td>\n      <td>-0.395255</td>\n      <td>0.068472</td>\n      <td>-0.053527</td>\n      <td>24.79</td>\n      <td>0</td>\n    </tr>\n    <tr>\n      <th>284804</th>\n      <td>172788.0</td>\n      <td>1.919565</td>\n      <td>-0.301254</td>\n      <td>-3.249640</td>\n      <td>-0.557828</td>\n      <td>2.630515</td>\n      <td>3.031260</td>\n      <td>-0.296827</td>\n      <td>0.708417</td>\n      <td>0.432454</td>\n      <td>...</td>\n      <td>0.232045</td>\n      <td>0.578229</td>\n      <td>-0.037501</td>\n      <td>0.640134</td>\n      <td>0.265745</td>\n      <td>-0.087371</td>\n      <td>0.004455</td>\n      <td>-0.026561</td>\n      <td>67.88</td>\n      <td>0</td>\n    </tr>\n    <tr>\n      <th>284805</th>\n      <td>172788.0</td>\n      <td>-0.240440</td>\n      <td>0.530483</td>\n      <td>0.702510</td>\n      <td>0.689799</td>\n      <td>-0.377961</td>\n      <td>0.623708</td>\n      <td>-0.686180</td>\n      <td>0.679145</td>\n      <td>0.392087</td>\n      <td>...</td>\n      <td>0.265245</td>\n      <td>0.800049</td>\n      <td>-0.163298</td>\n      <td>0.123205</td>\n      <td>-0.569159</td>\n      <td>0.546668</td>\n      <td>0.108821</td>\n      <td>0.104533</td>\n      <td>10.00</td>\n      <td>0</td>\n    </tr>\n    <tr>\n      <th>284806</th>\n      <td>172792.0</td>\n      <td>-0.533413</td>\n      <td>-0.189733</td>\n      <td>0.703337</td>\n      <td>-0.506271</td>\n      <td>-0.012546</td>\n      <td>-0.649617</td>\n      <td>1.577006</td>\n      <td>-0.414650</td>\n      <td>0.486180</td>\n      <td>...</td>\n      <td>0.261057</td>\n      <td>0.643078</td>\n      <td>0.376777</td>\n      <td>0.008797</td>\n      <td>-0.473649</td>\n      <td>-0.818267</td>\n      <td>-0.002415</td>\n      <td>0.013649</td>\n      <td>217.00</td>\n      <td>0</td>\n    </tr>\n  </tbody>\n</table>\n<p>5 rows × 31 columns</p>\n</div>"
     },
     "metadata": {},
     "output_type": "display_data"
    }
   ],
   "source": [
    "df = pd.read_csv('creditcard.csv')\n",
    "display(df.head())\n",
    "display(df.tail())"
   ],
   "metadata": {
    "collapsed": false,
    "pycharm": {
     "name": "#%%\n"
    }
   }
  },
  {
   "cell_type": "markdown",
   "source": [
    "- Time 기준\n",
    "- V1~V28은 카드정보. 민감정보라 익명으로 나타내고 PCA 형식으로 수정"
   ],
   "metadata": {
    "collapsed": false
   }
  },
  {
   "cell_type": "code",
   "execution_count": 3,
   "outputs": [
    {
     "name": "stdout",
     "output_type": "stream",
     "text": [
      "<class 'pandas.core.frame.DataFrame'>\n",
      "RangeIndex: 284807 entries, 0 to 284806\n",
      "Data columns (total 31 columns):\n",
      " #   Column  Non-Null Count   Dtype  \n",
      "---  ------  --------------   -----  \n",
      " 0   Time    284807 non-null  float64\n",
      " 1   V1      284807 non-null  float64\n",
      " 2   V2      284807 non-null  float64\n",
      " 3   V3      284807 non-null  float64\n",
      " 4   V4      284807 non-null  float64\n",
      " 5   V5      284807 non-null  float64\n",
      " 6   V6      284807 non-null  float64\n",
      " 7   V7      284807 non-null  float64\n",
      " 8   V8      284807 non-null  float64\n",
      " 9   V9      284807 non-null  float64\n",
      " 10  V10     284807 non-null  float64\n",
      " 11  V11     284807 non-null  float64\n",
      " 12  V12     284807 non-null  float64\n",
      " 13  V13     284807 non-null  float64\n",
      " 14  V14     284807 non-null  float64\n",
      " 15  V15     284807 non-null  float64\n",
      " 16  V16     284807 non-null  float64\n",
      " 17  V17     284807 non-null  float64\n",
      " 18  V18     284807 non-null  float64\n",
      " 19  V19     284807 non-null  float64\n",
      " 20  V20     284807 non-null  float64\n",
      " 21  V21     284807 non-null  float64\n",
      " 22  V22     284807 non-null  float64\n",
      " 23  V23     284807 non-null  float64\n",
      " 24  V24     284807 non-null  float64\n",
      " 25  V25     284807 non-null  float64\n",
      " 26  V26     284807 non-null  float64\n",
      " 27  V27     284807 non-null  float64\n",
      " 28  V28     284807 non-null  float64\n",
      " 29  Amount  284807 non-null  float64\n",
      " 30  Class   284807 non-null  int64  \n",
      "dtypes: float64(30), int64(1)\n",
      "memory usage: 67.4 MB\n",
      "None\n"
     ]
    }
   ],
   "source": [
    "print(df.info())"
   ],
   "metadata": {
    "collapsed": false,
    "pycharm": {
     "name": "#%%\n"
    }
   }
  },
  {
   "cell_type": "code",
   "execution_count": 4,
   "outputs": [
    {
     "data": {
      "text/plain": "Time      0\nV1        0\nV2        0\nV3        0\nV4        0\nV5        0\nV6        0\nV7        0\nV8        0\nV9        0\nV10       0\nV11       0\nV12       0\nV13       0\nV14       0\nV15       0\nV16       0\nV17       0\nV18       0\nV19       0\nV20       0\nV21       0\nV22       0\nV23       0\nV24       0\nV25       0\nV26       0\nV27       0\nV28       0\nAmount    0\nClass     0\ndtype: int64"
     },
     "execution_count": 4,
     "metadata": {},
     "output_type": "execute_result"
    }
   ],
   "source": [
    "df.isnull().sum()"
   ],
   "metadata": {
    "collapsed": false,
    "pycharm": {
     "name": "#%%\n"
    }
   }
  },
  {
   "cell_type": "markdown",
   "source": [
    "- 결측값은 없다"
   ],
   "metadata": {
    "collapsed": false
   }
  },
  {
   "cell_type": "code",
   "execution_count": 5,
   "outputs": [
    {
     "name": "stdout",
     "output_type": "stream",
     "text": [
      "0    284315\n",
      "1       492\n",
      "Name: Class, dtype: int64\n",
      "0.173 %\n"
     ]
    },
    {
     "data": {
      "text/plain": "<Figure size 504x360 with 1 Axes>",
      "image/png": "[encoded data removed]"
     },
     "metadata": {
      "needs_background": "light"
     },
     "output_type": "display_data"
    }
   ],
   "source": [
    "a = df['Class'].value_counts()\n",
    "print(a)\n",
    "print(round((a[1] / (a[0]+a[1]))*100, 3), '%')\n",
    "\n",
    "plt.figure(figsize=(7,5))\n",
    "sns.countplot(df['Class'])\n",
    "plt.title('Class count', fontsize=18)\n",
    "plt.xlabel('Record counts by Class', fontsize=13)\n",
    "plt.ylabel('Count', fontsize=13)\n",
    "plt.show()"
   ],
   "metadata": {
    "collapsed": false,
    "pycharm": {
     "name": "#%%\n"
    }
   }
  },
  {
   "cell_type": "markdown",
   "source": [
    "- 0 : 정상적인 신용카드 transaction\n",
    "- 1 : 사기 transaction\n",
    "- 1값의 비율이 0.173%로 데이터셋이 매우 불균형하다"
   ],
   "metadata": {
    "collapsed": false
   }
  },
  {
   "cell_type": "code",
   "execution_count": 6,
   "outputs": [
    {
     "data": {
      "text/plain": "             Frequency\n0~1000          281738\n1000~2000         2378\n2000~3000          402\n3000~4000          166\n4000~5000           68\n5000~6000           22\n6000~7000           12\n7000~8000            9\n8000~9000            4\n9000~10000           0\n10000~11000          2\n11000~12000          2\n12000~13000          1\n13000~14000          0\n14000~15000          0\n15000~16000          0\n16000~17000          0\n17000~18000          0\n18000~19000          1\n19000~20000          1\n20000~21000          0\n21000~22000          0\n22000~23000          0\n23000~24000          0\n24000~25000          0\n25000~26000          1\n26000~27000          0\n27000~28000          0\n28000~29000          0\n29000~30000          0",
      "text/html": "<div>\n<style scoped>\n    .dataframe tbody tr th:only-of-type {\n        vertical-align: middle;\n    }\n\n    .dataframe tbody tr th {\n        vertical-align: top;\n    }\n\n    .dataframe thead th {\n        text-align: right;\n    }\n</style>\n<table border=\"1\" class=\"dataframe\">\n  <thead>\n    <tr style=\"text-align: right;\">\n      <th></th>\n      <th>Frequency</th>\n    </tr>\n  </thead>\n  <tbody>\n    <tr>\n      <th>0~1000</th>\n      <td>281738</td>\n    </tr>\n    <tr>\n      <th>1000~2000</th>\n      <td>2378</td>\n    </tr>\n    <tr>\n      <th>2000~3000</th>\n      <td>402</td>\n    </tr>\n    <tr>\n      <th>3000~4000</th>\n      <td>166</td>\n    </tr>\n    <tr>\n      <th>4000~5000</th>\n      <td>68</td>\n    </tr>\n    <tr>\n      <th>5000~6000</th>\n      <td>22</td>\n    </tr>\n    <tr>\n      <th>6000~7000</th>\n      <td>12</td>\n    </tr>\n    <tr>\n      <th>7000~8000</th>\n      <td>9</td>\n    </tr>\n    <tr>\n      <th>8000~9000</th>\n      <td>4</td>\n    </tr>\n    <tr>\n      <th>9000~10000</th>\n      <td>0</td>\n    </tr>\n    <tr>\n      <th>10000~11000</th>\n      <td>2</td>\n    </tr>\n    <tr>\n      <th>11000~12000</th>\n      <td>2</td>\n    </tr>\n    <tr>\n      <th>12000~13000</th>\n      <td>1</td>\n    </tr>\n    <tr>\n      <th>13000~14000</th>\n      <td>0</td>\n    </tr>\n    <tr>\n      <th>14000~15000</th>\n      <td>0</td>\n    </tr>\n    <tr>\n      <th>15000~16000</th>\n      <td>0</td>\n    </tr>\n    <tr>\n      <th>16000~17000</th>\n      <td>0</td>\n    </tr>\n    <tr>\n      <th>17000~18000</th>\n      <td>0</td>\n    </tr>\n    <tr>\n      <th>18000~19000</th>\n      <td>1</td>\n    </tr>\n    <tr>\n      <th>19000~20000</th>\n      <td>1</td>\n    </tr>\n    <tr>\n      <th>20000~21000</th>\n      <td>0</td>\n    </tr>\n    <tr>\n      <th>21000~22000</th>\n      <td>0</td>\n    </tr>\n    <tr>\n      <th>22000~23000</th>\n      <td>0</td>\n    </tr>\n    <tr>\n      <th>23000~24000</th>\n      <td>0</td>\n    </tr>\n    <tr>\n      <th>24000~25000</th>\n      <td>0</td>\n    </tr>\n    <tr>\n      <th>25000~26000</th>\n      <td>1</td>\n    </tr>\n    <tr>\n      <th>26000~27000</th>\n      <td>0</td>\n    </tr>\n    <tr>\n      <th>27000~28000</th>\n      <td>0</td>\n    </tr>\n    <tr>\n      <th>28000~29000</th>\n      <td>0</td>\n    </tr>\n    <tr>\n      <th>29000~30000</th>\n      <td>0</td>\n    </tr>\n  </tbody>\n</table>\n</div>"
     },
     "metadata": {},
     "output_type": "display_data"
    },
    {
     "data": {
      "text/plain": "<Figure size 432x288 with 1 Axes>",
      "image/png": "[encoded data removed]"
     },
     "metadata": {
      "needs_background": "light"
     },
     "output_type": "display_data"
    }
   ],
   "source": [
    "# 도수분포표\n",
    "amount = df['Amount'].values\n",
    "freq, tmp = np.histogram(amount, bins=30, range=(0, 30000))\n",
    "\n",
    "freq_class = [str(i) + '~' + str(i+1000) for i in range(0, 30000, 1000)]\n",
    "freq_dist_df = pd.DataFrame({'Frequency':freq},\n",
    "                           index=freq_class)\n",
    "display(freq_dist_df)\n",
    "\n",
    "plt.hist(df['Amount'], bins=30)\n",
    "plt.show()"
   ],
   "metadata": {
    "collapsed": false,
    "pycharm": {
     "name": "#%%\n"
    }
   }
  },
  {
   "cell_type": "markdown",
   "source": [
    "- 0~1000달러 281,738건으로 주로 이 사이의 금액을 사용"
   ],
   "metadata": {
    "collapsed": false,
    "pycharm": {
     "name": "#%% md\n"
    }
   }
  },
  {
   "cell_type": "markdown",
   "source": [
    "## 2. training"
   ],
   "metadata": {
    "collapsed": false,
    "pycharm": {
     "name": "#%% md\n"
    }
   }
  },
  {
   "cell_type": "markdown",
   "source": [
    "#### 1) 가공 안한 데이터"
   ],
   "metadata": {
    "collapsed": false,
    "pycharm": {
     "name": "#%% md\n"
    }
   }
  },
  {
   "cell_type": "code",
   "execution_count": 7,
   "outputs": [
    {
     "name": "stdout",
     "output_type": "stream",
     "text": [
      "학습 데이터 레이블 값 비율\n",
      "0    99.827451\n",
      "1     0.172549\n",
      "Name: Class, dtype: float64\n",
      "테스트 데이터 레이블 값 비율\n",
      "0    99.826785\n",
      "1     0.173215\n",
      "Name: Class, dtype: float64\n"
     ]
    }
   ],
   "source": [
    "df = pd.read_csv('creditcard.csv')\n",
    "\n",
    "# 인자로 입력받은 DataFrame을 복사한 뒤 Time 칼럼만 삭제하고 복사한 DataFrame반환\n",
    "def get_preprocessed_df(df=None):\n",
    "    df_copy = df.copy()\n",
    "    df_copy.drop('Time', axis=1, inplace=True)\n",
    "    return df_copy\n",
    "\n",
    "# 사전 데이터 가공 후 학습과 테스트 데이터 세트를 반환하는 함수\n",
    "def get_train_test_dataset(df=None):\n",
    "    # 인자로 입력된 DataFrame의 사전 데이터 가공이 완료된 복사 DataFrame반환\n",
    "    df_copy = get_preprocessed_df(df)\n",
    "    # DataFrame의 맨 마지막 칼럼이 레이블, 나머지는 피처들\n",
    "    X_features = df_copy.iloc[:, :-1]\n",
    "    y_target = df_copy.iloc[:, -1]\n",
    "    # train_test_split()으로 학습과 테스트 데이터 분할. stratify=y_target으로 Stratified 기반 분할\n",
    "    X_train, X_test, y_train, y_test = train_test_split(X_features, y_target,\n",
    "                                                       test_size=0.3,\n",
    "                                                       random_state=0,\n",
    "                                                       stratify=y_target)\n",
    "    # 학습과 테스트 데이터 세트 반환\n",
    "    return X_train, X_test, y_train, y_test\n",
    "\n",
    "X_train, X_test, y_train, y_test = get_train_test_dataset(df)\n",
    "\n",
    "print('학습 데이터 레이블 값 비율')\n",
    "print(y_train.value_counts()/y_train.shape[0]*100)\n",
    "print('테스트 데이터 레이블 값 비율')\n",
    "print(y_test.value_counts()/y_test.shape[0]*100)"
   ],
   "metadata": {
    "collapsed": false,
    "pycharm": {
     "name": "#%%\n"
    }
   }
  },
  {
   "cell_type": "markdown",
   "id": "4f5bc662",
   "metadata": {},
   "source": [
    "- 학습 데이터와 테스트 데이터의 레이블 값이 각각 비슷한 비율로 분할되었다"
   ]
  },
  {
   "cell_type": "markdown",
   "source": [
    "로지스틱 회귀"
   ],
   "metadata": {
    "collapsed": false,
    "pycharm": {
     "name": "#%% md\n"
    }
   }
  },
  {
   "cell_type": "code",
   "execution_count": 8,
   "id": "3b580d08",
   "metadata": {},
   "outputs": [
    {
     "name": "stdout",
     "output_type": "stream",
     "text": [
      "오차 행렬\n",
      "[[85283    12]\n",
      " [   59    89]]\n",
      "정확도: 0.9992, 정밀도: 0.8812, 재현율: 0.6014, F1: 0.7149, ROC AUC 값: 0.9592\n"
     ]
    }
   ],
   "source": [
    "lr_clf = LogisticRegression()\n",
    "lr_clf.fit(X_train, y_train)\n",
    "lr_pred = lr_clf.predict(X_test)\n",
    "lr_pred_proba = lr_clf.predict_proba(X_test)[:, 1]    # 개별 데이터별 예측확률 계산\n",
    "\n",
    "# get_clf_eval()함수 이용해서 평가 수행\n",
    "def get_clf_eval(y_test, pred, proba):\n",
    "    confusion = confusion_matrix(y_test, pred)\n",
    "    accuracy = accuracy_score(y_test, pred)\n",
    "    precision = precision_score(y_test, pred)     # 정밀도 계산\n",
    "    recall = recall_score(y_test, pred)       # 재현율 계산\n",
    "    f1 = f1_score(y_test, pred)\n",
    "    roc_score = roc_auc_score(y_test, proba)\n",
    "    print('오차 행렬')\n",
    "    print(confusion)\n",
    "    print('정확도: {0:.4f}, 정밀도: {1:.4f}, 재현율: {2:.4f}, F1: {3:.4f}, ROC AUC 값: {4:.4f}'\n",
    "          .format(accuracy, precision, recall, f1, roc_score))\n",
    "    # print('pred_proba()결과 shape : {0}'.format(proba.shape))\n",
    "    # print('pred_proba array에서 앞 3개만 샘플로 추출', '\\n : ', proba[:3])\n",
    "    \n",
    "    # # 예측 확률 array와 예측 결괏값 array를 병합(concatenate)해 예측 확률과 결괏값을 한눈에 확인\n",
    "    # proba_result = np.concatenate([proba, pred.reshape(-1, 1)].flatten(), axis=1)\n",
    "    # print('두 개의 class 중에서 더 큰 확률을 클래스 값으로 예측 \\n', proba_result[:3])\n",
    "\n",
    "# 로지스틱 회귀\n",
    "get_clf_eval(y_test, lr_pred, lr_pred_proba)"
   ]
  },
  {
   "cell_type": "markdown",
   "id": "f2023208",
   "metadata": {},
   "source": [
    "- 정밀도 88.12%에 비해 재현율 60.14%로 낮게 나옴"
   ]
  },
  {
   "cell_type": "markdown",
   "source": [
    "LGBM"
   ],
   "metadata": {
    "collapsed": false,
    "pycharm": {
     "name": "#%% md\n"
    }
   }
  },
  {
   "cell_type": "code",
   "execution_count": 11,
   "id": "92c2d308",
   "metadata": {},
   "outputs": [
    {
     "name": "stdout",
     "output_type": "stream",
     "text": [
      "오차 행렬\n",
      "[[85290     5]\n",
      " [   36   112]]\n",
      "정확도: 0.9995, 정밀도: 0.9573, 재현율: 0.7568, F1: 0.8453, ROC AUC 값: 0.9790\n"
     ]
    }
   ],
   "source": [
    "# 인자로 사이킷런의 Estimator객체와 학습/테스트 데이터 세트를 입력 받아서 학습/예측/평가 수행\n",
    "def get_model_train_eval(model, ftr_train=None, ftr_test=None, tgt_train=None, tgt_test=None):\n",
    "    model.fit(ftr_train, tgt_train)\n",
    "    pred = model.predict(ftr_test)\n",
    "    pred_proba = model.predict_proba(ftr_test)[:, 1]\n",
    "    get_clf_eval(tgt_test, pred, pred_proba)\n",
    "\n",
    "lgbm_clf = LGBMClassifier(n_estimators=1000, num_leaves=64, n_jobs=1, boost_from_average=False)\n",
    "get_model_train_eval(lgbm_clf, ftr_train=X_train, ftr_test=X_test, tgt_train=y_train, tgt_test=y_test)"
   ]
  },
  {
   "cell_type": "markdown",
   "id": "f2792694",
   "metadata": {},
   "source": [
    "- 재현율 75.68%, ROC-AUC 97.9%로 위의 값보다 높은 수치가 나옴"
   ]
  },
  {
   "cell_type": "markdown",
   "source": [
    "#### 2) amount 수정"
   ],
   "metadata": {
    "collapsed": false,
    "pycharm": {
     "name": "#%% md\n"
    }
   }
  },
  {
   "cell_type": "code",
   "execution_count": 12,
   "id": "898ec9be",
   "metadata": {},
   "outputs": [
    {
     "name": "stdout",
     "output_type": "stream",
     "text": [
      "### 로지스틱 회귀 예측 성능 ###\n",
      "오차 행렬\n",
      "[[85281    14]\n",
      " [   58    90]]\n",
      "정확도: 0.9992, 정밀도: 0.8654, 재현율: 0.6081, F1: 0.7143, ROC AUC 값: 0.9702\n",
      "### LightGBM 예측 성능\n",
      "오차 행렬\n",
      "[[85266    29]\n",
      " [   93    55]]\n",
      "정확도: 0.9986, 정밀도: 0.6548, 재현율: 0.3716, F1: 0.4741, ROC AUC 값: 0.6890\n"
     ]
    }
   ],
   "source": [
    "# 사이킷런의 StandardScaler를 이용해 정규 분포 형태로 Amount 피쳐값 변환하는 로직으로 수정\n",
    "def get_preprocessed_df(df=None):\n",
    "    df_copy = df.copy()\n",
    "    scaler = StandardScaler()\n",
    "    amount_n = scaler.fit_transform(df_copy['Amount'].values.reshape(-1, 1))\n",
    "    # 변환된 Amount를 Amount_Scaled로 피처명 변경후 DataFrame 맨 앞 칼럼으로 입력\n",
    "    df_copy.insert(0, 'Amount_Scaled', amount_n)\n",
    "    # 기존 Time, Amount 피처 삭제\n",
    "    df_copy.drop(['Time', 'Amount'], axis=1, inplace=True)\n",
    "    return df_copy\n",
    "\n",
    "# Amount를 정규 분포 형태로 변환 후 로지스틱 회귀 및 LightGBM 수행\n",
    "X_train, X_test, y_train, y_test = get_train_test_dataset(df)\n",
    "\n",
    "print('### 로지스틱 회귀 예측 성능 ###')\n",
    "lr_clf = LogisticRegression()\n",
    "get_model_train_eval(lr_clf, ftr_train=X_train, ftr_test=X_test, tgt_train=y_train,\n",
    "                    tgt_test=y_test)\n",
    "\n",
    "print('### LightGBM 예측 성능')\n",
    "lgbm_clf = LGBMClassifier(n_estimators=1000, num_leaves=64, n_jobs=-1)\n",
    "get_model_train_eval(lgbm_clf, ftr_train=X_train, ftr_test=X_test,\n",
    "                     tgt_train=y_train, tgt_test=y_test)"
   ]
  },
  {
   "cell_type": "markdown",
   "id": "ff76b09e",
   "metadata": {},
   "source": [
    "- 크게 개선되지 않음\n",
    "- LGBM은 오히려 더 낮아짐"
   ]
  },
  {
   "cell_type": "markdown",
   "source": [
    "로그변환"
   ],
   "metadata": {
    "collapsed": false,
    "pycharm": {
     "name": "#%% md\n"
    }
   }
  },
  {
   "cell_type": "code",
   "execution_count": 13,
   "id": "881beff6",
   "metadata": {},
   "outputs": [
    {
     "name": "stdout",
     "output_type": "stream",
     "text": [
      "### 로지스틱 회귀 예측 성능\n",
      "오차 행렬\n",
      "[[85283    12]\n",
      " [   59    89]]\n",
      "정확도: 0.9992, 정밀도: 0.8812, 재현율: 0.6014, F1: 0.7149, ROC AUC 값: 0.9727\n",
      "### LightGBM 예측 성능\n",
      "오차 행렬\n",
      "[[85221    74]\n",
      " [   91    57]]\n",
      "정확도: 0.9981, 정밀도: 0.4351, 재현율: 0.3851, F1: 0.4086, ROC AUC 값: 0.6921\n"
     ]
    }
   ],
   "source": [
    "# 로그변환\n",
    "def get_preprocessed_df(df=None):\n",
    "    df_copy = df.copy()\n",
    "    # numpy의 log1p()를 이용해 Amount를 로그 변환\n",
    "    amount_n = np.log1p(df_copy['Amount'])\n",
    "    df_copy.insert(0, 'Amount_Scaled', amount_n)\n",
    "    df_copy.drop(['Time', 'Amount'], axis=1, inplace=True)\n",
    "    return df_copy\n",
    "\n",
    "X_train, X_test, y_train, y_test = get_train_test_dataset(df)\n",
    "\n",
    "print('### 로지스틱 회귀 예측 성능')\n",
    "get_model_train_eval(lr_clf, ftr_train=X_train, ftr_test=X_test, tgt_train=y_train,\n",
    "                    tgt_test=y_test)\n",
    "\n",
    "print('### LightGBM 예측 성능')\n",
    "get_model_train_eval(lgbm_clf, ftr_train=X_train, ftr_test=X_test,\n",
    "                     tgt_train=y_train, tgt_test=y_test)"
   ]
  },
  {
   "cell_type": "markdown",
   "source": [
    "- 크게 개선되지 않음"
   ],
   "metadata": {
    "collapsed": false
   }
  },
  {
   "cell_type": "markdown",
   "source": [
    "#### 3) 이상치 처리"
   ],
   "metadata": {
    "collapsed": false,
    "pycharm": {
     "name": "#%% md\n"
    }
   }
  },
  {
   "cell_type": "code",
   "execution_count": 14,
   "outputs": [
    {
     "data": {
      "text/plain": "            Time            V1            V2            V3            V4  \\\nV13    -0.065902 -2.425603e-17  6.295388e-16  2.807652e-16  1.303306e-16   \nV14    -0.098757 -5.020280e-16 -1.730566e-16  4.739859e-16  2.282280e-16   \nV15    -0.183453  3.547782e-16 -4.995814e-17  9.068793e-16  1.377649e-16   \nV16     0.011903  7.212815e-17  1.177316e-17  8.299445e-16 -9.614528e-16   \nV17    -0.073297 -3.879840e-16 -2.685296e-16  7.614712e-16 -2.699612e-16   \nV18     0.090438  3.230206e-17  3.284605e-16  1.509897e-16 -5.103644e-16   \nV19     0.028975  1.502024e-16 -7.118719e-18  3.463522e-16 -3.980557e-16   \nV20    -0.050866  4.654551e-16  2.506675e-16 -9.316409e-16 -1.857247e-16   \nV21     0.044736 -2.457409e-16 -8.480447e-17  5.706192e-17 -1.949553e-16   \nV22     0.144059 -4.290944e-16  1.526333e-16 -1.133902e-15 -6.276051e-17   \nV23     0.051142  6.168652e-16  1.634231e-16 -4.983035e-16  9.164206e-17   \nV24    -0.016182 -4.425156e-17  1.247925e-17  2.686834e-19  1.584638e-16   \nV25    -0.233083 -9.605737e-16 -4.478846e-16 -1.104734e-15  6.070716e-16   \nV26    -0.041407 -1.581290e-17  2.057310e-16 -1.238062e-16 -4.247268e-16   \nV27    -0.005135  1.198124e-16 -4.966953e-16  1.045747e-15  3.977061e-17   \nV28    -0.009413  2.083082e-15 -5.093836e-16  9.775546e-16 -2.761403e-18   \nAmount -0.010596 -2.277087e-01 -5.314089e-01 -2.108805e-01  9.873167e-02   \nClass  -0.012323 -1.013473e-01  9.128865e-02 -1.929608e-01  1.334475e-01   \n\n                  V5            V6            V7            V8            V9  \\\nV13     5.886991e-16 -1.211182e-16  1.266462e-17 -2.921856e-16  2.251072e-15   \nV14     6.565143e-16  2.621312e-16  2.607772e-16 -8.599156e-16  3.784757e-15   \nV15    -8.720275e-16 -1.531188e-15 -1.690540e-16  4.127777e-16 -1.051167e-15   \nV16     2.246261e-15  2.623672e-18  5.869302e-17 -5.254741e-16 -1.214086e-15   \nV17     1.281914e-16  2.015618e-16  2.177192e-16 -2.269549e-16  1.113695e-15   \nV18     5.308590e-16  1.223814e-16  7.604126e-17 -3.667974e-16  4.993240e-16   \nV19    -1.450421e-16 -1.865597e-16 -1.881008e-16 -3.875186e-16 -1.376135e-16   \nV20    -3.554057e-16 -1.858755e-16  9.379684e-16  2.033737e-16 -2.343720e-16   \nV21    -3.920976e-16  5.833316e-17 -2.027779e-16  3.892798e-16  1.936953e-16   \nV22     1.253751e-16 -4.705235e-19 -8.898922e-16  2.026927e-16 -7.071869e-16   \nV23    -8.428683e-18  1.046712e-16 -4.387401e-16  6.377260e-17 -5.214137e-16   \nV24    -1.149255e-15 -1.071589e-15  7.434913e-18 -1.047097e-16 -1.430343e-16   \nV25     4.808532e-16  4.562861e-16 -3.094082e-16 -4.653279e-16  6.757763e-16   \nV26     4.319541e-16 -1.357067e-16 -9.657637e-16 -1.727276e-16 -7.888853e-16   \nV27     6.590482e-16 -4.452461e-16 -1.782106e-15  1.299943e-16 -6.709655e-17   \nV28    -5.613951e-18  2.594754e-16 -2.776530e-16 -6.200930e-16  1.110541e-15   \nAmount -3.863563e-01  2.159812e-01  3.973113e-01 -1.030791e-01 -4.424560e-02   \nClass  -9.497430e-02 -4.364316e-02 -1.872566e-01  1.987512e-02 -9.773269e-02   \n\n        ...           V21           V22           V23           V24  \\\nV13     ...  1.008461e-16  6.747721e-17 -7.132064e-16 -1.397470e-16   \nV14     ... -3.356561e-16  3.740383e-16  3.883204e-16  2.003482e-16   \nV15     ...  6.605263e-17 -4.208921e-16 -3.912243e-16 -4.478263e-16   \nV16     ... -4.715090e-16 -7.923387e-17  5.020770e-16 -3.005985e-16   \nV17     ... -8.230527e-16 -8.743398e-16  3.706214e-16 -2.403828e-16   \nV18     ... -9.408680e-16 -4.819365e-16 -1.912006e-16 -8.986916e-17   \nV19     ...  5.115885e-16 -1.163768e-15  7.032035e-16  2.587708e-17   \nV20     ... -7.614597e-16  1.009285e-15  2.712885e-16  1.277215e-16   \nV21     ...  1.000000e+00  3.649908e-15  8.119580e-16  1.761054e-16   \nV22     ...  3.649908e-15  1.000000e+00 -7.303916e-17  9.970809e-17   \nV23     ...  8.119580e-16 -7.303916e-17  1.000000e+00  2.130519e-17   \nV24     ...  1.761054e-16  9.970809e-17  2.130519e-17  1.000000e+00   \nV25     ... -1.686082e-16 -5.018575e-16 -8.232727e-17  1.015391e-15   \nV26     ... -5.557329e-16 -2.503187e-17  1.114524e-15  1.343722e-16   \nV27     ... -1.211281e-15  8.461337e-17  2.839721e-16 -2.274142e-16   \nV28     ...  5.278775e-16 -6.627203e-16  1.481903e-15 -2.819805e-16   \nAmount  ...  1.059989e-01 -6.480065e-02 -1.126326e-01  5.146217e-03   \nClass   ...  4.041338e-02  8.053175e-04 -2.685156e-03 -7.220907e-03   \n\n                 V25           V26           V27           V28    Amount  \\\nV13    -5.497612e-16 -1.769255e-16 -4.720898e-16  1.144372e-15  0.005293   \nV14    -8.547932e-16 -1.660327e-16  1.044274e-16  2.289427e-15  0.033751   \nV15     3.206423e-16  2.817791e-16 -1.143519e-15 -1.194130e-15 -0.002986   \nV16    -1.345418e-15 -7.290010e-16  6.789513e-16  7.588849e-16 -0.003910   \nV17     2.666806e-16  6.932833e-16  6.148525e-16 -5.534540e-17  0.007309   \nV18    -6.629212e-17  2.990167e-16  2.242791e-16  7.976796e-16  0.035650   \nV19     9.577163e-16  5.898033e-16 -2.959370e-16 -1.405379e-15 -0.056151   \nV20     1.410054e-16 -2.803504e-16 -1.138829e-15 -2.436795e-16  0.339403   \nV21    -1.686082e-16 -5.557329e-16 -1.211281e-15  5.278775e-16  0.105999   \nV22    -5.018575e-16 -2.503187e-17  8.461337e-17 -6.627203e-16 -0.064801   \nV23    -8.232727e-17  1.114524e-15  2.839721e-16  1.481903e-15 -0.112633   \nV24     1.015391e-15  1.343722e-16 -2.274142e-16 -2.819805e-16  0.005146   \nV25     1.000000e+00  2.646517e-15 -6.406679e-16 -7.008939e-16 -0.047837   \nV26     2.646517e-15  1.000000e+00 -3.667715e-16 -2.782204e-16 -0.003208   \nV27    -6.406679e-16 -3.667715e-16  1.000000e+00 -3.061287e-16  0.028825   \nV28    -7.008939e-16 -2.782204e-16 -3.061287e-16  1.000000e+00  0.010258   \nAmount -4.783686e-02 -3.208037e-03  2.882546e-02  1.025822e-02  1.000000   \nClass   3.307706e-03  4.455398e-03  1.757973e-02  9.536041e-03  0.005632   \n\n           Class  \nV13    -0.004570  \nV14    -0.302544  \nV15    -0.004223  \nV16    -0.196539  \nV17    -0.326481  \nV18    -0.111485  \nV19     0.034783  \nV20     0.020090  \nV21     0.040413  \nV22     0.000805  \nV23    -0.002685  \nV24    -0.007221  \nV25     0.003308  \nV26     0.004455  \nV27     0.017580  \nV28     0.009536  \nAmount  0.005632  \nClass   1.000000  \n\n[18 rows x 31 columns]",
      "text/html": "<div>\n<style scoped>\n    .dataframe tbody tr th:only-of-type {\n        vertical-align: middle;\n    }\n\n    .dataframe tbody tr th {\n        vertical-align: top;\n    }\n\n    .dataframe thead th {\n        text-align: right;\n    }\n</style>\n<table border=\"1\" class=\"dataframe\">\n  <thead>\n    <tr style=\"text-align: right;\">\n      <th></th>\n      <th>Time</th>\n      <th>V1</th>\n      <th>V2</th>\n      <th>V3</th>\n      <th>V4</th>\n      <th>V5</th>\n      <th>V6</th>\n      <th>V7</th>\n      <th>V8</th>\n      <th>V9</th>\n      <th>...</th>\n      <th>V21</th>\n      <th>V22</th>\n      <th>V23</th>\n      <th>V24</th>\n      <th>V25</th>\n      <th>V26</th>\n      <th>V27</th>\n      <th>V28</th>\n      <th>Amount</th>\n      <th>Class</th>\n    </tr>\n  </thead>\n  <tbody>\n    <tr>\n      <th>V13</th>\n      <td>-0.065902</td>\n      <td>-2.425603e-17</td>\n      <td>6.295388e-16</td>\n      <td>2.807652e-16</td>\n      <td>1.303306e-16</td>\n      <td>5.886991e-16</td>\n      <td>-1.211182e-16</td>\n      <td>1.266462e-17</td>\n      <td>-2.921856e-16</td>\n      <td>2.251072e-15</td>\n      <td>...</td>\n      <td>1.008461e-16</td>\n      <td>6.747721e-17</td>\n      <td>-7.132064e-16</td>\n      <td>-1.397470e-16</td>\n      <td>-5.497612e-16</td>\n      <td>-1.769255e-16</td>\n      <td>-4.720898e-16</td>\n      <td>1.144372e-15</td>\n      <td>0.005293</td>\n      <td>-0.004570</td>\n    </tr>\n    <tr>\n      <th>V14</th>\n      <td>-0.098757</td>\n      <td>-5.020280e-16</td>\n      <td>-1.730566e-16</td>\n      <td>4.739859e-16</td>\n      <td>2.282280e-16</td>\n      <td>6.565143e-16</td>\n      <td>2.621312e-16</td>\n      <td>2.607772e-16</td>\n      <td>-8.599156e-16</td>\n      <td>3.784757e-15</td>\n      <td>...</td>\n      <td>-3.356561e-16</td>\n      <td>3.740383e-16</td>\n      <td>3.883204e-16</td>\n      <td>2.003482e-16</td>\n      <td>-8.547932e-16</td>\n      <td>-1.660327e-16</td>\n      <td>1.044274e-16</td>\n      <td>2.289427e-15</td>\n      <td>0.033751</td>\n      <td>-0.302544</td>\n    </tr>\n    <tr>\n      <th>V15</th>\n      <td>-0.183453</td>\n      <td>3.547782e-16</td>\n      <td>-4.995814e-17</td>\n      <td>9.068793e-16</td>\n      <td>1.377649e-16</td>\n      <td>-8.720275e-16</td>\n      <td>-1.531188e-15</td>\n      <td>-1.690540e-16</td>\n      <td>4.127777e-16</td>\n      <td>-1.051167e-15</td>\n      <td>...</td>\n      <td>6.605263e-17</td>\n      <td>-4.208921e-16</td>\n      <td>-3.912243e-16</td>\n      <td>-4.478263e-16</td>\n      <td>3.206423e-16</td>\n      <td>2.817791e-16</td>\n      <td>-1.143519e-15</td>\n      <td>-1.194130e-15</td>\n      <td>-0.002986</td>\n      <td>-0.004223</td>\n    </tr>\n    <tr>\n      <th>V16</th>\n      <td>0.011903</td>\n      <td>7.212815e-17</td>\n      <td>1.177316e-17</td>\n      <td>8.299445e-16</td>\n      <td>-9.614528e-16</td>\n      <td>2.246261e-15</td>\n      <td>2.623672e-18</td>\n      <td>5.869302e-17</td>\n      <td>-5.254741e-16</td>\n      <td>-1.214086e-15</td>\n      <td>...</td>\n      <td>-4.715090e-16</td>\n      <td>-7.923387e-17</td>\n      <td>5.020770e-16</td>\n      <td>-3.005985e-16</td>\n      <td>-1.345418e-15</td>\n      <td>-7.290010e-16</td>\n      <td>6.789513e-16</td>\n      <td>7.588849e-16</td>\n      <td>-0.003910</td>\n      <td>-0.196539</td>\n    </tr>\n    <tr>\n      <th>V17</th>\n      <td>-0.073297</td>\n      <td>-3.879840e-16</td>\n      <td>-2.685296e-16</td>\n      <td>7.614712e-16</td>\n      <td>-2.699612e-16</td>\n      <td>1.281914e-16</td>\n      <td>2.015618e-16</td>\n      <td>2.177192e-16</td>\n      <td>-2.269549e-16</td>\n      <td>1.113695e-15</td>\n      <td>...</td>\n      <td>-8.230527e-16</td>\n      <td>-8.743398e-16</td>\n      <td>3.706214e-16</td>\n      <td>-2.403828e-16</td>\n      <td>2.666806e-16</td>\n      <td>6.932833e-16</td>\n      <td>6.148525e-16</td>\n      <td>-5.534540e-17</td>\n      <td>0.007309</td>\n      <td>-0.326481</td>\n    </tr>\n    <tr>\n      <th>V18</th>\n      <td>0.090438</td>\n      <td>3.230206e-17</td>\n      <td>3.284605e-16</td>\n      <td>1.509897e-16</td>\n      <td>-5.103644e-16</td>\n      <td>5.308590e-16</td>\n      <td>1.223814e-16</td>\n      <td>7.604126e-17</td>\n      <td>-3.667974e-16</td>\n      <td>4.993240e-16</td>\n      <td>...</td>\n      <td>-9.408680e-16</td>\n      <td>-4.819365e-16</td>\n      <td>-1.912006e-16</td>\n      <td>-8.986916e-17</td>\n      <td>-6.629212e-17</td>\n      <td>2.990167e-16</td>\n      <td>2.242791e-16</td>\n      <td>7.976796e-16</td>\n      <td>0.035650</td>\n      <td>-0.111485</td>\n    </tr>\n    <tr>\n      <th>V19</th>\n      <td>0.028975</td>\n      <td>1.502024e-16</td>\n      <td>-7.118719e-18</td>\n      <td>3.463522e-16</td>\n      <td>-3.980557e-16</td>\n      <td>-1.450421e-16</td>\n      <td>-1.865597e-16</td>\n      <td>-1.881008e-16</td>\n      <td>-3.875186e-16</td>\n      <td>-1.376135e-16</td>\n      <td>...</td>\n      <td>5.115885e-16</td>\n      <td>-1.163768e-15</td>\n      <td>7.032035e-16</td>\n      <td>2.587708e-17</td>\n      <td>9.577163e-16</td>\n      <td>5.898033e-16</td>\n      <td>-2.959370e-16</td>\n      <td>-1.405379e-15</td>\n      <td>-0.056151</td>\n      <td>0.034783</td>\n    </tr>\n    <tr>\n      <th>V20</th>\n      <td>-0.050866</td>\n      <td>4.654551e-16</td>\n      <td>2.506675e-16</td>\n      <td>-9.316409e-16</td>\n      <td>-1.857247e-16</td>\n      <td>-3.554057e-16</td>\n      <td>-1.858755e-16</td>\n      <td>9.379684e-16</td>\n      <td>2.033737e-16</td>\n      <td>-2.343720e-16</td>\n      <td>...</td>\n      <td>-7.614597e-16</td>\n      <td>1.009285e-15</td>\n      <td>2.712885e-16</td>\n      <td>1.277215e-16</td>\n      <td>1.410054e-16</td>\n      <td>-2.803504e-16</td>\n      <td>-1.138829e-15</td>\n      <td>-2.436795e-16</td>\n      <td>0.339403</td>\n      <td>0.020090</td>\n    </tr>\n    <tr>\n      <th>V21</th>\n      <td>0.044736</td>\n      <td>-2.457409e-16</td>\n      <td>-8.480447e-17</td>\n      <td>5.706192e-17</td>\n      <td>-1.949553e-16</td>\n      <td>-3.920976e-16</td>\n      <td>5.833316e-17</td>\n      <td>-2.027779e-16</td>\n      <td>3.892798e-16</td>\n      <td>1.936953e-16</td>\n      <td>...</td>\n      <td>1.000000e+00</td>\n      <td>3.649908e-15</td>\n      <td>8.119580e-16</td>\n      <td>1.761054e-16</td>\n      <td>-1.686082e-16</td>\n      <td>-5.557329e-16</td>\n      <td>-1.211281e-15</td>\n      <td>5.278775e-16</td>\n      <td>0.105999</td>\n      <td>0.040413</td>\n    </tr>\n    <tr>\n      <th>V22</th>\n      <td>0.144059</td>\n      <td>-4.290944e-16</td>\n      <td>1.526333e-16</td>\n      <td>-1.133902e-15</td>\n      <td>-6.276051e-17</td>\n      <td>1.253751e-16</td>\n      <td>-4.705235e-19</td>\n      <td>-8.898922e-16</td>\n      <td>2.026927e-16</td>\n      <td>-7.071869e-16</td>\n      <td>...</td>\n      <td>3.649908e-15</td>\n      <td>1.000000e+00</td>\n      <td>-7.303916e-17</td>\n      <td>9.970809e-17</td>\n      <td>-5.018575e-16</td>\n      <td>-2.503187e-17</td>\n      <td>8.461337e-17</td>\n      <td>-6.627203e-16</td>\n      <td>-0.064801</td>\n      <td>0.000805</td>\n    </tr>\n    <tr>\n      <th>V23</th>\n      <td>0.051142</td>\n      <td>6.168652e-16</td>\n      <td>1.634231e-16</td>\n      <td>-4.983035e-16</td>\n      <td>9.164206e-17</td>\n      <td>-8.428683e-18</td>\n      <td>1.046712e-16</td>\n      <td>-4.387401e-16</td>\n      <td>6.377260e-17</td>\n      <td>-5.214137e-16</td>\n      <td>...</td>\n      <td>8.119580e-16</td>\n      <td>-7.303916e-17</td>\n      <td>1.000000e+00</td>\n      <td>2.130519e-17</td>\n      <td>-8.232727e-17</td>\n      <td>1.114524e-15</td>\n      <td>2.839721e-16</td>\n      <td>1.481903e-15</td>\n      <td>-0.112633</td>\n      <td>-0.002685</td>\n    </tr>\n    <tr>\n      <th>V24</th>\n      <td>-0.016182</td>\n      <td>-4.425156e-17</td>\n      <td>1.247925e-17</td>\n      <td>2.686834e-19</td>\n      <td>1.584638e-16</td>\n      <td>-1.149255e-15</td>\n      <td>-1.071589e-15</td>\n      <td>7.434913e-18</td>\n      <td>-1.047097e-16</td>\n      <td>-1.430343e-16</td>\n      <td>...</td>\n      <td>1.761054e-16</td>\n      <td>9.970809e-17</td>\n      <td>2.130519e-17</td>\n      <td>1.000000e+00</td>\n      <td>1.015391e-15</td>\n      <td>1.343722e-16</td>\n      <td>-2.274142e-16</td>\n      <td>-2.819805e-16</td>\n      <td>0.005146</td>\n      <td>-0.007221</td>\n    </tr>\n    <tr>\n      <th>V25</th>\n      <td>-0.233083</td>\n      <td>-9.605737e-16</td>\n      <td>-4.478846e-16</td>\n      <td>-1.104734e-15</td>\n      <td>6.070716e-16</td>\n      <td>4.808532e-16</td>\n      <td>4.562861e-16</td>\n      <td>-3.094082e-16</td>\n      <td>-4.653279e-16</td>\n      <td>6.757763e-16</td>\n      <td>...</td>\n      <td>-1.686082e-16</td>\n      <td>-5.018575e-16</td>\n      <td>-8.232727e-17</td>\n      <td>1.015391e-15</td>\n      <td>1.000000e+00</td>\n      <td>2.646517e-15</td>\n      <td>-6.406679e-16</td>\n      <td>-7.008939e-16</td>\n      <td>-0.047837</td>\n      <td>0.003308</td>\n    </tr>\n    <tr>\n      <th>V26</th>\n      <td>-0.041407</td>\n      <td>-1.581290e-17</td>\n      <td>2.057310e-16</td>\n      <td>-1.238062e-16</td>\n      <td>-4.247268e-16</td>\n      <td>4.319541e-16</td>\n      <td>-1.357067e-16</td>\n      <td>-9.657637e-16</td>\n      <td>-1.727276e-16</td>\n      <td>-7.888853e-16</td>\n      <td>...</td>\n      <td>-5.557329e-16</td>\n      <td>-2.503187e-17</td>\n      <td>1.114524e-15</td>\n      <td>1.343722e-16</td>\n      <td>2.646517e-15</td>\n      <td>1.000000e+00</td>\n      <td>-3.667715e-16</td>\n      <td>-2.782204e-16</td>\n      <td>-0.003208</td>\n      <td>0.004455</td>\n    </tr>\n    <tr>\n      <th>V27</th>\n      <td>-0.005135</td>\n      <td>1.198124e-16</td>\n      <td>-4.966953e-16</td>\n      <td>1.045747e-15</td>\n      <td>3.977061e-17</td>\n      <td>6.590482e-16</td>\n      <td>-4.452461e-16</td>\n      <td>-1.782106e-15</td>\n      <td>1.299943e-16</td>\n      <td>-6.709655e-17</td>\n      <td>...</td>\n      <td>-1.211281e-15</td>\n      <td>8.461337e-17</td>\n      <td>2.839721e-16</td>\n      <td>-2.274142e-16</td>\n      <td>-6.406679e-16</td>\n      <td>-3.667715e-16</td>\n      <td>1.000000e+00</td>\n      <td>-3.061287e-16</td>\n      <td>0.028825</td>\n      <td>0.017580</td>\n    </tr>\n    <tr>\n      <th>V28</th>\n      <td>-0.009413</td>\n      <td>2.083082e-15</td>\n      <td>-5.093836e-16</td>\n      <td>9.775546e-16</td>\n      <td>-2.761403e-18</td>\n      <td>-5.613951e-18</td>\n      <td>2.594754e-16</td>\n      <td>-2.776530e-16</td>\n      <td>-6.200930e-16</td>\n      <td>1.110541e-15</td>\n      <td>...</td>\n      <td>5.278775e-16</td>\n      <td>-6.627203e-16</td>\n      <td>1.481903e-15</td>\n      <td>-2.819805e-16</td>\n      <td>-7.008939e-16</td>\n      <td>-2.782204e-16</td>\n      <td>-3.061287e-16</td>\n      <td>1.000000e+00</td>\n      <td>0.010258</td>\n      <td>0.009536</td>\n    </tr>\n    <tr>\n      <th>Amount</th>\n      <td>-0.010596</td>\n      <td>-2.277087e-01</td>\n      <td>-5.314089e-01</td>\n      <td>-2.108805e-01</td>\n      <td>9.873167e-02</td>\n      <td>-3.863563e-01</td>\n      <td>2.159812e-01</td>\n      <td>3.973113e-01</td>\n      <td>-1.030791e-01</td>\n      <td>-4.424560e-02</td>\n      <td>...</td>\n      <td>1.059989e-01</td>\n      <td>-6.480065e-02</td>\n      <td>-1.126326e-01</td>\n      <td>5.146217e-03</td>\n      <td>-4.783686e-02</td>\n      <td>-3.208037e-03</td>\n      <td>2.882546e-02</td>\n      <td>1.025822e-02</td>\n      <td>1.000000</td>\n      <td>0.005632</td>\n    </tr>\n    <tr>\n      <th>Class</th>\n      <td>-0.012323</td>\n      <td>-1.013473e-01</td>\n      <td>9.128865e-02</td>\n      <td>-1.929608e-01</td>\n      <td>1.334475e-01</td>\n      <td>-9.497430e-02</td>\n      <td>-4.364316e-02</td>\n      <td>-1.872566e-01</td>\n      <td>1.987512e-02</td>\n      <td>-9.773269e-02</td>\n      <td>...</td>\n      <td>4.041338e-02</td>\n      <td>8.053175e-04</td>\n      <td>-2.685156e-03</td>\n      <td>-7.220907e-03</td>\n      <td>3.307706e-03</td>\n      <td>4.455398e-03</td>\n      <td>1.757973e-02</td>\n      <td>9.536041e-03</td>\n      <td>0.005632</td>\n      <td>1.000000</td>\n    </tr>\n  </tbody>\n</table>\n<p>18 rows × 31 columns</p>\n</div>"
     },
     "metadata": {},
     "output_type": "display_data"
    },
    {
     "data": {
      "text/plain": "<Figure size 720x504 with 2 Axes>",
      "image/png": "[encoded data removed]"
     },
     "metadata": {
      "needs_background": "light"
     },
     "output_type": "display_data"
    }
   ],
   "source": [
    "# 상관관계 분석\n",
    "corr = df.corr()\n",
    "display(corr.tail(18))\n",
    "plt.figure(figsize=(10, 7))\n",
    "sns.heatmap(corr, cmap='Greens')\n",
    "plt.show()"
   ],
   "metadata": {
    "collapsed": false,
    "pycharm": {
     "name": "#%%\n"
    }
   }
  },
  {
   "cell_type": "markdown",
   "source": [
    "- Class와 V17은 상관관계가 높다\n",
    "- V17은 이상값이 나오지 않아서 책 예제와 같은 V14로 진행"
   ],
   "metadata": {
    "collapsed": false
   }
  },
  {
   "cell_type": "code",
   "execution_count": 15,
   "outputs": [
    {
     "data": {
      "text/plain": "<AxesSubplot:xlabel='Class', ylabel='V14'>"
     },
     "execution_count": 15,
     "metadata": {},
     "output_type": "execute_result"
    },
    {
     "data": {
      "text/plain": "<Figure size 432x288 with 1 Axes>",
      "image/png": "[encoded data removed]"
     },
     "metadata": {
      "needs_background": "light"
     },
     "output_type": "display_data"
    }
   ],
   "source": [
    "#box plot\n",
    "\n",
    "sns.boxplot(x=\"Class\", y=\"V14\",\n",
    "            data=df)"
   ],
   "metadata": {
    "collapsed": false,
    "pycharm": {
     "name": "#%%\n"
    }
   }
  },
  {
   "cell_type": "markdown",
   "source": [
    "- V14은 target이 0, 1에서 서로 다른 분포를 보여준다 => target을 정할 수 있다, 영향력이 있다"
   ],
   "metadata": {
    "collapsed": false
   }
  },
  {
   "cell_type": "code",
   "execution_count": 16,
   "outputs": [
    {
     "data": {
      "text/plain": "<AxesSubplot:xlabel='Class', ylabel='V20'>"
     },
     "execution_count": 16,
     "metadata": {},
     "output_type": "execute_result"
    },
    {
     "data": {
      "text/plain": "<Figure size 432x288 with 1 Axes>",
      "image/png": "[encoded data removed]"
     },
     "metadata": {
      "needs_background": "light"
     },
     "output_type": "display_data"
    }
   ],
   "source": [
    "#box plot\n",
    "\n",
    "sns.boxplot(x=\"Class\", y=\"V20\",\n",
    "            data=df)"
   ],
   "metadata": {
    "collapsed": false,
    "pycharm": {
     "name": "#%%\n"
    }
   }
  },
  {
   "cell_type": "markdown",
   "source": [
    "- V20은 target이 0, 1 일 때 분포가 비슷하다 => target을 정할 수 없음"
   ],
   "metadata": {
    "collapsed": false
   }
  },
  {
   "cell_type": "code",
   "execution_count": 17,
   "id": "229dd773",
   "metadata": {},
   "outputs": [
    {
     "name": "stdout",
     "output_type": "stream",
     "text": [
      "이상치 데이터 인덱스: Int64Index([8296, 8615, 9035, 9252], dtype='int64')\n"
     ]
    }
   ],
   "source": [
    "def get_outlier(df=None, column=None, weight=1.5):\n",
    "    # fraud에 해당하는 column 데이터만 추출, 1/4  분위와 3/4 분위 지점을 np.percentile로 구함\n",
    "    fraud = df[df['Class']==1][column]\n",
    "    quantile_25 = np.percentile(fraud.values, 25)\n",
    "    quantile_75 = np.percentile(fraud.values, 75)\n",
    "    # IQR을 구하고, IQR에 1.5를 곱해 최대값과 최소값 지점 구함\n",
    "    iqr = quantile_75 - quantile_25\n",
    "    iqr_weight = iqr*weight\n",
    "    lowest_val = quantile_25 - iqr_weight\n",
    "    highest_val = quantile_75 + iqr_weight\n",
    "    \n",
    "    # 최대값보다 크거나, 최소값보다 작은 값을 이상치 데이터로 설정. DataFrame index 반환\n",
    "    outlier_index = fraud[(fraud < lowest_val) | (fraud > highest_val)].index\n",
    "    return outlier_index\n",
    "\n",
    "outlier_index = get_outlier(df=df, column='V14', weight=1.5)\n",
    "print('이상치 데이터 인덱스:', outlier_index)"
   ]
  },
  {
   "cell_type": "code",
   "execution_count": 18,
   "id": "be1d086f",
   "metadata": {},
   "outputs": [
    {
     "name": "stdout",
     "output_type": "stream",
     "text": [
      "### 로지스틱 회귀 예측 성능\n",
      "오차 행렬\n",
      "[[85281    14]\n",
      " [   48    98]]\n",
      "정확도: 0.9993, 정밀도: 0.8750, 재현율: 0.6712, F1: 0.7597, ROC AUC 값: 0.9743\n",
      "### LightGBM 예측 성능\n",
      "오차 행렬\n",
      "[[85268    27]\n",
      " [   36   110]]\n",
      "정확도: 0.9993, 정밀도: 0.8029, 재현율: 0.7534, F1: 0.7774, ROC AUC 값: 0.9219\n"
     ]
    }
   ],
   "source": [
    "# get_processed_df()를 로그 변환 후 V14 피처의 이상치 데이터를 삭제하는 로직으로 변경\n",
    "def get_preprocessed_df(df=None):\n",
    "    df_copy = df.copy()\n",
    "    amount_n = np.log1p(df_copy['Amount'])\n",
    "    df_copy.insert(0, 'Amount_Scaled', amount_n)\n",
    "    df_copy.drop(['Time', 'Amount'], axis=1, inplace=True)\n",
    "    # 이상치 데이터 삭제하는 로직 추가\n",
    "    outlier_index = get_outlier(df=df_copy, column='V14', weight=1.5)\n",
    "    df_copy.drop(outlier_index, axis=0, inplace=True)\n",
    "    return df_copy\n",
    "\n",
    "\n",
    "X_train, X_test, y_train, y_test = get_train_test_dataset(df)\n",
    "\n",
    "print('### 로지스틱 회귀 예측 성능')\n",
    "get_model_train_eval(lr_clf, ftr_train=X_train, ftr_test=X_test, tgt_train=y_train,\n",
    "                    tgt_test=y_test)\n",
    "\n",
    "print('### LightGBM 예측 성능')\n",
    "get_model_train_eval(lgbm_clf, ftr_train=X_train, ftr_test=X_test,\n",
    "                     tgt_train=y_train, tgt_test=y_test)"
   ]
  },
  {
   "cell_type": "markdown",
   "source": [
    "- 크게 개선되지 않음"
   ],
   "metadata": {
    "collapsed": false
   }
  },
  {
   "cell_type": "markdown",
   "source": [
    "### SMOTE Over Sampling"
   ],
   "metadata": {
    "collapsed": false,
    "pycharm": {
     "name": "#%% md\n"
    }
   }
  },
  {
   "cell_type": "code",
   "execution_count": 19,
   "id": "92ac36f3",
   "metadata": {},
   "outputs": [
    {
     "name": "stdout",
     "output_type": "stream",
     "text": [
      "SMOTE 적용 전 학습용 피처/레이블 데이터 세트:  (199362, 29) (199362,)\n",
      "SMOTE 적용 후 학습용 피처/레이블 데이터 세트:  (398040, 29) (398040,)\n",
      "SMOTE 적용 후 레이블 값 분포:\n",
      " 0    199020\n",
      "1    199020\n",
      "Name: Class, dtype: int64\n"
     ]
    }
   ],
   "source": [
    "smote = SMOTE(random_state=0)\n",
    "X_train_over, y_train_over = smote.fit_resample(X_train, y_train)\n",
    "print('SMOTE 적용 전 학습용 피처/레이블 데이터 세트: ', X_train.shape, y_train.shape)\n",
    "print('SMOTE 적용 후 학습용 피처/레이블 데이터 세트: ', X_train_over.shape, y_train_over.shape)\n",
    "print('SMOTE 적용 후 레이블 값 분포:\\n', pd.Series(y_train_over).value_counts())"
   ]
  },
  {
   "cell_type": "markdown",
   "source": [
    "- 학습용 데이터만 오버샘플링 => 테스트 데이터까지 오버샘플링하면 원본이 아닌 다른 데이터셋에서 테스트 수행하기 때문\n",
    "- fit_resample을 이용하여 데이터 증식 (199362 => 398040)\n",
    "- 학습용 데이터셋 분포가 동일하게 생성 (199020건)"
   ],
   "metadata": {
    "collapsed": false,
    "pycharm": {
     "name": "#%% md\n"
    }
   }
  },
  {
   "cell_type": "code",
   "execution_count": 20,
   "id": "ad645a3c",
   "metadata": {},
   "outputs": [
    {
     "name": "stdout",
     "output_type": "stream",
     "text": [
      "오차 행렬\n",
      "[[82937  2358]\n",
      " [   11   135]]\n",
      "정확도: 0.9723, 정밀도: 0.0542, 재현율: 0.9247, F1: 0.1023, ROC AUC 값: 0.9737\n"
     ]
    }
   ],
   "source": [
    "# 로지스틱 회귀\n",
    "lr_clf = LogisticRegression()\n",
    "# ftr_train과 tgt_train 인자값이 SMOTE 증식된 X_train_over와 y_train_over로 변경됨에 유의\n",
    "get_model_train_eval(lr_clf, ftr_train=X_train_over, ftr_test=X_test, tgt_train=y_train_over, tgt_test=y_test)"
   ]
  },
  {
   "cell_type": "markdown",
   "source": [
    "- 재현율은 92.47%로 크게 증가\n",
    "- 정밀도는 5.42%로 크게 감소"
   ],
   "metadata": {
    "collapsed": false,
    "pycharm": {
     "name": "#%% md\n"
    }
   }
  },
  {
   "cell_type": "code",
   "execution_count": 21,
   "id": "d6b65812",
   "metadata": {},
   "outputs": [
    {
     "data": {
      "text/plain": "<Figure size 576x432 with 1 Axes>",
      "image/png": "[encoded data removed]"
     },
     "metadata": {
      "needs_background": "light"
     },
     "output_type": "display_data"
    }
   ],
   "source": [
    "def precision_recall_curve_plot(y_test, pred_proba_c1):\n",
    "    precisions, recalls, thresholds = precision_recall_curve(y_test, pred_proba_c1)\n",
    "    \n",
    "    plt.figure(figsize=(8, 6))\n",
    "    threshold_boundary = thresholds.shape[0]\n",
    "    plt.plot(thresholds, precisions[0:threshold_boundary], linestyle='--',\n",
    "            label='precision')\n",
    "    plt.plot(thresholds, recalls[0:threshold_boundary], label='recall')\n",
    "    \n",
    "    start, end = plt.xlim()\n",
    "    plt.xticks(np.round(np.arange(start, end, 0.1), 2))\n",
    "    \n",
    "    plt.xlabel('Threshold value'); plt.ylabel('Precision and Recall value')\n",
    "    plt.legend(); plt.grid()\n",
    "    plt.show()\n",
    "\n",
    "precision_recall_curve_plot(y_test, lr_clf.predict_proba(X_test)[:, 1])"
   ]
  },
  {
   "cell_type": "code",
   "execution_count": 22,
   "outputs": [
    {
     "name": "stdout",
     "output_type": "stream",
     "text": [
      "오차 행렬\n",
      "[[85283    12]\n",
      " [   22   124]]\n",
      "정확도: 0.9996, 정밀도: 0.9118, 재현율: 0.8493, F1: 0.8794, ROC AUC 값: 0.9814\n"
     ]
    }
   ],
   "source": [
    "#LightGBM\n",
    "lgbm_clf = LGBMClassifier(n_estimators=1000, num_leaves=64, n_jobs=-1, boost_from_average=False)\n",
    "get_model_train_eval(lgbm_clf, ftr_train=X_train_over, ftr_test=X_test, tgt_train=y_train_over, tgt_test=y_test)"
   ],
   "metadata": {
    "collapsed": false,
    "pycharm": {
     "name": "#%%\n"
    }
   }
  },
  {
   "cell_type": "markdown",
   "id": "bf7c1e65",
   "metadata": {
    "pycharm": {
     "name": "#%% md\n"
    }
   },
   "source": [
    "-"
   ]
  },
  {
   "cell_type": "markdown",
   "source": [
    "### Under Sampling"
   ],
   "metadata": {
    "collapsed": false,
    "pycharm": {
     "name": "#%% md\n"
    }
   }
  },
  {
   "cell_type": "code",
   "execution_count": 23,
   "outputs": [
    {
     "name": "stdout",
     "output_type": "stream",
     "text": [
      "(284315, 31)\n",
      "(492, 31)\n"
     ]
    }
   ],
   "source": [
    "# seperating the data for analysis\n",
    "legit = df[df.Class==0]\n",
    "fraud = df[df.Class==1]\n",
    "\n",
    "print(legit.shape)\n",
    "print(fraud.shape)\n"
   ],
   "metadata": {
    "collapsed": false,
    "pycharm": {
     "name": "#%%\n"
    }
   }
  },
  {
   "cell_type": "code",
   "execution_count": 26,
   "outputs": [
    {
     "data": {
      "text/plain": "            Time        V1        V2        V3        V4        V5        V6  \\\n145380   86893.0  1.957622 -0.398628 -2.076347  0.184397  0.543604 -0.365113   \n86788    61395.0  1.224883 -1.256700  1.335269 -0.483719 -1.673398  0.883255   \n244575  152407.0 -1.337483  1.571356 -0.371266 -0.689817  0.334334 -0.145739   \n200649  133516.0  2.154424 -0.399707 -2.105263 -0.804646  0.227205 -1.130039   \n276178  166942.0 -1.138483 -0.204893  3.573909  5.034916 -0.764174  2.002115   \n\n              V7        V8        V9  ...       V21       V22       V23  \\\n145380  0.329879 -0.122654  0.364033  ...  0.000697 -0.086969 -0.008958   \n86788  -1.747729  0.574280  0.521696  ...  0.218723  0.768911 -0.092119   \n244575  0.280048  0.763778 -0.705468  ... -0.023300 -0.547756 -0.061487   \n200649  0.271462 -0.291957  1.198204  ... -0.086357 -0.139718  0.088932   \n276178 -0.637616  0.456850  0.154676  ...  0.037466  0.609566 -0.082159   \n\n             V24       V25       V26       V27       V28  Amount  Class  \n145380  0.216840  0.162251  0.537755 -0.129244 -0.076339   74.99      0  \n86788  -0.299037  0.308434 -0.034701  0.073648  0.009940   23.05      0  \n244575  0.280098 -0.092835 -0.590468 -0.552300  0.004404   11.85      0  \n200649  0.504564  0.156680  0.717521 -0.126808 -0.081780    9.00      0  \n276178 -0.118906  0.100725  0.639188 -0.092232 -0.059205  126.05      0  \n\n[5 rows x 31 columns]",
      "text/html": "<div>\n<style scoped>\n    .dataframe tbody tr th:only-of-type {\n        vertical-align: middle;\n    }\n\n    .dataframe tbody tr th {\n        vertical-align: top;\n    }\n\n    .dataframe thead th {\n        text-align: right;\n    }\n</style>\n<table border=\"1\" class=\"dataframe\">\n  <thead>\n    <tr style=\"text-align: right;\">\n      <th></th>\n      <th>Time</th>\n      <th>V1</th>\n      <th>V2</th>\n      <th>V3</th>\n      <th>V4</th>\n      <th>V5</th>\n      <th>V6</th>\n      <th>V7</th>\n      <th>V8</th>\n      <th>V9</th>\n      <th>...</th>\n      <th>V21</th>\n      <th>V22</th>\n      <th>V23</th>\n      <th>V24</th>\n      <th>V25</th>\n      <th>V26</th>\n      <th>V27</th>\n      <th>V28</th>\n      <th>Amount</th>\n      <th>Class</th>\n    </tr>\n  </thead>\n  <tbody>\n    <tr>\n      <th>145380</th>\n      <td>86893.0</td>\n      <td>1.957622</td>\n      <td>-0.398628</td>\n      <td>-2.076347</td>\n      <td>0.184397</td>\n      <td>0.543604</td>\n      <td>-0.365113</td>\n      <td>0.329879</td>\n      <td>-0.122654</td>\n      <td>0.364033</td>\n      <td>...</td>\n      <td>0.000697</td>\n      <td>-0.086969</td>\n      <td>-0.008958</td>\n      <td>0.216840</td>\n      <td>0.162251</td>\n      <td>0.537755</td>\n      <td>-0.129244</td>\n      <td>-0.076339</td>\n      <td>74.99</td>\n      <td>0</td>\n    </tr>\n    <tr>\n      <th>86788</th>\n      <td>61395.0</td>\n      <td>1.224883</td>\n      <td>-1.256700</td>\n      <td>1.335269</td>\n      <td>-0.483719</td>\n      <td>-1.673398</td>\n      <td>0.883255</td>\n      <td>-1.747729</td>\n      <td>0.574280</td>\n      <td>0.521696</td>\n      <td>...</td>\n      <td>0.218723</td>\n      <td>0.768911</td>\n      <td>-0.092119</td>\n      <td>-0.299037</td>\n      <td>0.308434</td>\n      <td>-0.034701</td>\n      <td>0.073648</td>\n      <td>0.009940</td>\n      <td>23.05</td>\n      <td>0</td>\n    </tr>\n    <tr>\n      <th>244575</th>\n      <td>152407.0</td>\n      <td>-1.337483</td>\n      <td>1.571356</td>\n      <td>-0.371266</td>\n      <td>-0.689817</td>\n      <td>0.334334</td>\n      <td>-0.145739</td>\n      <td>0.280048</td>\n      <td>0.763778</td>\n      <td>-0.705468</td>\n      <td>...</td>\n      <td>-0.023300</td>\n      <td>-0.547756</td>\n      <td>-0.061487</td>\n      <td>0.280098</td>\n      <td>-0.092835</td>\n      <td>-0.590468</td>\n      <td>-0.552300</td>\n      <td>0.004404</td>\n      <td>11.85</td>\n      <td>0</td>\n    </tr>\n    <tr>\n      <th>200649</th>\n      <td>133516.0</td>\n      <td>2.154424</td>\n      <td>-0.399707</td>\n      <td>-2.105263</td>\n      <td>-0.804646</td>\n      <td>0.227205</td>\n      <td>-1.130039</td>\n      <td>0.271462</td>\n      <td>-0.291957</td>\n      <td>1.198204</td>\n      <td>...</td>\n      <td>-0.086357</td>\n      <td>-0.139718</td>\n      <td>0.088932</td>\n      <td>0.504564</td>\n      <td>0.156680</td>\n      <td>0.717521</td>\n      <td>-0.126808</td>\n      <td>-0.081780</td>\n      <td>9.00</td>\n      <td>0</td>\n    </tr>\n    <tr>\n      <th>276178</th>\n      <td>166942.0</td>\n      <td>-1.138483</td>\n      <td>-0.204893</td>\n      <td>3.573909</td>\n      <td>5.034916</td>\n      <td>-0.764174</td>\n      <td>2.002115</td>\n      <td>-0.637616</td>\n      <td>0.456850</td>\n      <td>0.154676</td>\n      <td>...</td>\n      <td>0.037466</td>\n      <td>0.609566</td>\n      <td>-0.082159</td>\n      <td>-0.118906</td>\n      <td>0.100725</td>\n      <td>0.639188</td>\n      <td>-0.092232</td>\n      <td>-0.059205</td>\n      <td>126.05</td>\n      <td>0</td>\n    </tr>\n  </tbody>\n</table>\n<p>5 rows × 31 columns</p>\n</div>"
     },
     "metadata": {},
     "output_type": "display_data"
    },
    {
     "data": {
      "text/plain": "            Time        V1        V2        V3        V4        V5        V6  \\\n279863  169142.0 -1.927883  1.125653 -4.518331  1.749293 -1.566487 -2.010494   \n280143  169347.0  1.378559  1.289381 -5.004247  1.411850  0.442581 -1.326536   \n280149  169351.0 -0.676143  1.126366 -2.213700  0.468308 -1.120541 -0.003346   \n281144  169966.0 -3.113832  0.585864 -5.399730  1.817092 -0.840618 -2.943548   \n281674  170348.0  1.991976  0.158476 -2.583441  0.408670  1.151147 -0.096695   \n\n              V7        V8        V9  ...       V21       V22       V23  \\\n279863 -0.882850  0.697211 -2.064945  ...  0.778584 -0.319189  0.639419   \n280143 -1.413170  0.248525 -1.127396  ...  0.370612  0.028234 -0.145640   \n280149 -2.234739  1.210158 -0.652250  ...  0.751826  0.834108  0.190944   \n281144 -2.208002  1.058733 -1.632333  ...  0.583276 -0.269209 -0.456108   \n281674  0.223050 -0.068384  0.577829  ... -0.164350 -0.295135 -0.072173   \n\n             V24       V25       V26       V27       V28  Amount  Class  \n279863 -0.294885  0.537503  0.788395  0.292680  0.147968  390.00      1  \n280143 -0.081049  0.521875  0.739467  0.389152  0.186637    0.76      1  \n280149  0.032070 -0.739695  0.471111  0.385107  0.194361   77.89      1  \n281144 -0.183659 -0.328168  0.606116  0.884876 -0.253700  245.00      1  \n281674 -0.450261  0.313267 -0.289617  0.002988 -0.015309   42.53      1  \n\n[5 rows x 31 columns]",
      "text/html": "<div>\n<style scoped>\n    .dataframe tbody tr th:only-of-type {\n        vertical-align: middle;\n    }\n\n    .dataframe tbody tr th {\n        vertical-align: top;\n    }\n\n    .dataframe thead th {\n        text-align: right;\n    }\n</style>\n<table border=\"1\" class=\"dataframe\">\n  <thead>\n    <tr style=\"text-align: right;\">\n      <th></th>\n      <th>Time</th>\n      <th>V1</th>\n      <th>V2</th>\n      <th>V3</th>\n      <th>V4</th>\n      <th>V5</th>\n      <th>V6</th>\n      <th>V7</th>\n      <th>V8</th>\n      <th>V9</th>\n      <th>...</th>\n      <th>V21</th>\n      <th>V22</th>\n      <th>V23</th>\n      <th>V24</th>\n      <th>V25</th>\n      <th>V26</th>\n      <th>V27</th>\n      <th>V28</th>\n      <th>Amount</th>\n      <th>Class</th>\n    </tr>\n  </thead>\n  <tbody>\n    <tr>\n      <th>279863</th>\n      <td>169142.0</td>\n      <td>-1.927883</td>\n      <td>1.125653</td>\n      <td>-4.518331</td>\n      <td>1.749293</td>\n      <td>-1.566487</td>\n      <td>-2.010494</td>\n      <td>-0.882850</td>\n      <td>0.697211</td>\n      <td>-2.064945</td>\n      <td>...</td>\n      <td>0.778584</td>\n      <td>-0.319189</td>\n      <td>0.639419</td>\n      <td>-0.294885</td>\n      <td>0.537503</td>\n      <td>0.788395</td>\n      <td>0.292680</td>\n      <td>0.147968</td>\n      <td>390.00</td>\n      <td>1</td>\n    </tr>\n    <tr>\n      <th>280143</th>\n      <td>169347.0</td>\n      <td>1.378559</td>\n      <td>1.289381</td>\n      <td>-5.004247</td>\n      <td>1.411850</td>\n      <td>0.442581</td>\n      <td>-1.326536</td>\n      <td>-1.413170</td>\n      <td>0.248525</td>\n      <td>-1.127396</td>\n      <td>...</td>\n      <td>0.370612</td>\n      <td>0.028234</td>\n      <td>-0.145640</td>\n      <td>-0.081049</td>\n      <td>0.521875</td>\n      <td>0.739467</td>\n      <td>0.389152</td>\n      <td>0.186637</td>\n      <td>0.76</td>\n      <td>1</td>\n    </tr>\n    <tr>\n      <th>280149</th>\n      <td>169351.0</td>\n      <td>-0.676143</td>\n      <td>1.126366</td>\n      <td>-2.213700</td>\n      <td>0.468308</td>\n      <td>-1.120541</td>\n      <td>-0.003346</td>\n      <td>-2.234739</td>\n      <td>1.210158</td>\n      <td>-0.652250</td>\n      <td>...</td>\n      <td>0.751826</td>\n      <td>0.834108</td>\n      <td>0.190944</td>\n      <td>0.032070</td>\n      <td>-0.739695</td>\n      <td>0.471111</td>\n      <td>0.385107</td>\n      <td>0.194361</td>\n      <td>77.89</td>\n      <td>1</td>\n    </tr>\n    <tr>\n      <th>281144</th>\n      <td>169966.0</td>\n      <td>-3.113832</td>\n      <td>0.585864</td>\n      <td>-5.399730</td>\n      <td>1.817092</td>\n      <td>-0.840618</td>\n      <td>-2.943548</td>\n      <td>-2.208002</td>\n      <td>1.058733</td>\n      <td>-1.632333</td>\n      <td>...</td>\n      <td>0.583276</td>\n      <td>-0.269209</td>\n      <td>-0.456108</td>\n      <td>-0.183659</td>\n      <td>-0.328168</td>\n      <td>0.606116</td>\n      <td>0.884876</td>\n      <td>-0.253700</td>\n      <td>245.00</td>\n      <td>1</td>\n    </tr>\n    <tr>\n      <th>281674</th>\n      <td>170348.0</td>\n      <td>1.991976</td>\n      <td>0.158476</td>\n      <td>-2.583441</td>\n      <td>0.408670</td>\n      <td>1.151147</td>\n      <td>-0.096695</td>\n      <td>0.223050</td>\n      <td>-0.068384</td>\n      <td>0.577829</td>\n      <td>...</td>\n      <td>-0.164350</td>\n      <td>-0.295135</td>\n      <td>-0.072173</td>\n      <td>-0.450261</td>\n      <td>0.313267</td>\n      <td>-0.289617</td>\n      <td>0.002988</td>\n      <td>-0.015309</td>\n      <td>42.53</td>\n      <td>1</td>\n    </tr>\n  </tbody>\n</table>\n<p>5 rows × 31 columns</p>\n</div>"
     },
     "metadata": {},
     "output_type": "display_data"
    }
   ],
   "source": [
    "legit_sample = legit.sample(n=492)\n",
    "new_df = pd.concat([legit_sample, fraud], axis=0)\n",
    "display(new_df.head())\n",
    "display(new_df.tail())"
   ],
   "metadata": {
    "collapsed": false,
    "pycharm": {
     "name": "#%%\n"
    }
   }
  },
  {
   "cell_type": "code",
   "execution_count": 27,
   "outputs": [
    {
     "data": {
      "text/plain": "0    492\n1    492\nName: Class, dtype: int64"
     },
     "execution_count": 27,
     "metadata": {},
     "output_type": "execute_result"
    }
   ],
   "source": [
    "new_df['Class'].value_counts()"
   ],
   "metadata": {
    "collapsed": false,
    "pycharm": {
     "name": "#%%\n"
    }
   }
  },
  {
   "cell_type": "code",
   "execution_count": 29,
   "outputs": [
    {
     "name": "stdout",
     "output_type": "stream",
     "text": [
      "(984, 30) (787, 30) (197, 30)\n",
      "### 로지스틱 회귀 예측 성능\n",
      "오차 행렬\n",
      "[[94  5]\n",
      " [15 83]]\n",
      "정확도: 0.8985, 정밀도: 0.9432, 재현율: 0.8469, F1: 0.8925, ROC AUC 값: 0.9631\n",
      "### LightGBM 예측 성능\n",
      "오차 행렬\n",
      "[[96  3]\n",
      " [12 86]]\n",
      "정확도: 0.9239, 정밀도: 0.9663, 재현율: 0.8776, F1: 0.9198, ROC AUC 값: 0.9747\n"
     ]
    }
   ],
   "source": [
    "X = new_df.drop(columns='Class', axis=1)\n",
    "Y = new_df['Class']\n",
    "X_train, X_test, Y_train, Y_test = train_test_split(X, Y, test_size=0.2,\n",
    "                                                    stratify=Y, random_state=2)\n",
    "print(X.shape, X_train.shape, X_test.shape)\n",
    "\n",
    "print('### 로지스틱 회귀 예측 성능')\n",
    "get_model_train_eval(lr_clf, ftr_train=X_train, ftr_test=X_test, tgt_train=Y_train,\n",
    "                    tgt_test=Y_test)\n",
    "\n",
    "print('### LightGBM 예측 성능')\n",
    "get_model_train_eval(lgbm_clf, ftr_train=X_train, ftr_test=X_test,\n",
    "                     tgt_train=Y_train, tgt_test=Y_test)"
   ],
   "metadata": {
    "collapsed": false,
    "pycharm": {
     "name": "#%%\n"
    }
   }
  },
  {
   "cell_type": "markdown",
   "source": [
    "- 로지스틱 회귀와 LGBM 모두 정확도가 많이 떨어짐"
   ],
   "metadata": {
    "collapsed": false,
    "pycharm": {
     "name": "#%% md\n"
    }
   }
  },
  {
   "cell_type": "markdown",
   "source": [
    "## 3. 결과"
   ],
   "metadata": {
    "collapsed": false,
    "pycharm": {
     "name": "#%% md\n"
    }
   }
  },
  {
   "cell_type": "code",
   "execution_count": null,
   "outputs": [],
   "source": [],
   "metadata": {
    "collapsed": false,
    "pycharm": {
     "name": "#%%\n"
    }
   }
  }
 ],
 "metadata": {
  "kernelspec": {
   "display_name": "Python 3 (ipykernel)",
   "language": "python",
   "name": "python3"
  },
  "language_info": {
   "codemirror_mode": {
    "name": "ipython",
    "version": 3
   },
   "file_extension": ".py",
   "mimetype": "text/x-python",
   "name": "python",
   "nbconvert_exporter": "python",
   "pygments_lexer": "ipython3",
   "version": "3.8.12"
  }
 },
 "nbformat": 4,
 "nbformat_minor": 5
}